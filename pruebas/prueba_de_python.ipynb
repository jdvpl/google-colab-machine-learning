{
  "nbformat": 4,
  "nbformat_minor": 0,
  "metadata": {
    "colab": {
      "name": "prueba de python",
      "provenance": [],
      "collapsed_sections": [],
      "toc_visible": true,
      "authorship_tag": "ABX9TyNxDem8rUZq6iHHpznPw47z",
      "include_colab_link": true
    },
    "kernelspec": {
      "name": "python3",
      "display_name": "Python 3"
    },
    "language_info": {
      "name": "python"
    }
  },
  "cells": [
    {
      "cell_type": "markdown",
      "metadata": {
        "id": "view-in-github",
        "colab_type": "text"
      },
      "source": [
        "<a href=\"https://colab.research.google.com/github/jdvpl/google-colab-machine-learning/blob/main/pruebas/prueba_de_python.ipynb\" target=\"_parent\"><img src=\"https://colab.research.google.com/assets/colab-badge.svg\" alt=\"Open In Colab\"/></a>"
      ]
    },
    {
      "cell_type": "markdown",
      "source": [
        "# Variables"
      ],
      "metadata": {
        "id": "Mz5OQmWGUyYd"
      }
    },
    {
      "cell_type": "code",
      "source": [
        "hola=\"Hello\"\n",
        "kisama=\"kisama\"\n",
        "texto=hola+ \" \" +kisama\n",
        "texto"
      ],
      "metadata": {
        "colab": {
          "base_uri": "https://localhost:8080/",
          "height": 35
        },
        "id": "Dnj1UsioVBKY",
        "outputId": "007921c5-c59d-4e2d-c465-e6712c8631e2"
      },
      "execution_count": 3,
      "outputs": [
        {
          "output_type": "execute_result",
          "data": {
            "application/vnd.google.colaboratory.intrinsic+json": {
              "type": "string"
            },
            "text/plain": [
              "'Hello kisama'"
            ]
          },
          "metadata": {},
          "execution_count": 3
        }
      ]
    },
    {
      "cell_type": "markdown",
      "source": [
        "#  Numpy *pruebas*"
      ],
      "metadata": {
        "id": "Y3UPmbpLV34k"
      }
    },
    {
      "cell_type": "code",
      "source": [
        "import numpy as np"
      ],
      "metadata": {
        "id": "J_Lbm0MKV-lF"
      },
      "execution_count": 4,
      "outputs": []
    },
    {
      "cell_type": "code",
      "source": [
        "np.__version__"
      ],
      "metadata": {
        "colab": {
          "base_uri": "https://localhost:8080/",
          "height": 35
        },
        "id": "aWFLf9TfWEw_",
        "outputId": "6e83e371-43a9-4030-f7c8-81e9f9201273"
      },
      "execution_count": 5,
      "outputs": [
        {
          "output_type": "execute_result",
          "data": {
            "application/vnd.google.colaboratory.intrinsic+json": {
              "type": "string"
            },
            "text/plain": [
              "'1.21.5'"
            ]
          },
          "metadata": {},
          "execution_count": 5
        }
      ]
    },
    {
      "cell_type": "code",
      "source": [
        "np.random.rand(5,20)"
      ],
      "metadata": {
        "colab": {
          "base_uri": "https://localhost:8080/"
        },
        "id": "9qBAHk4SWIWK",
        "outputId": "86ddef38-4581-4e41-cd9c-21c2c1b5f8e7"
      },
      "execution_count": 6,
      "outputs": [
        {
          "output_type": "execute_result",
          "data": {
            "text/plain": [
              "array([[3.08791871e-01, 2.80993524e-01, 3.52891415e-01, 6.97863447e-01,\n",
              "        1.65801162e-01, 7.04952042e-01, 7.20976120e-01, 7.55137587e-02,\n",
              "        5.03756160e-01, 5.06110667e-01, 7.53562327e-01, 3.01391077e-01,\n",
              "        7.26827377e-01, 7.72816515e-01, 4.27770697e-01, 5.31091338e-01,\n",
              "        8.50475274e-01, 3.24868303e-01, 6.23964131e-01, 4.48138419e-01],\n",
              "       [2.72328802e-01, 9.32935980e-01, 9.92938239e-01, 3.81116163e-01,\n",
              "        7.71107092e-01, 5.75056559e-02, 1.72532816e-01, 8.17561442e-01,\n",
              "        4.38920069e-01, 8.34242027e-01, 8.91359328e-01, 7.42727922e-01,\n",
              "        5.97957749e-02, 8.02145109e-01, 9.65881195e-01, 2.80854608e-01,\n",
              "        7.27729047e-01, 1.26649597e-01, 8.95163109e-01, 9.32112199e-01],\n",
              "       [9.06679156e-02, 4.35498522e-01, 9.29014512e-03, 8.73833617e-01,\n",
              "        9.08003010e-01, 3.28371733e-01, 9.62748764e-01, 8.08169986e-02,\n",
              "        7.05287349e-01, 2.44183803e-01, 2.52789478e-01, 7.70363994e-01,\n",
              "        9.37069190e-01, 6.83438679e-02, 8.57018688e-01, 7.08764754e-01,\n",
              "        1.41407229e-01, 5.25760005e-01, 2.92592572e-01, 5.99226132e-01],\n",
              "       [9.19148258e-01, 5.35047185e-01, 3.23681761e-01, 6.74576858e-01,\n",
              "        9.43997073e-01, 5.52415471e-02, 1.26019791e-01, 3.76699971e-01,\n",
              "        8.39869786e-02, 6.47536469e-01, 3.36719255e-01, 3.42493523e-01,\n",
              "        8.75004937e-01, 1.03410761e-01, 2.79255651e-01, 1.94425980e-01,\n",
              "        5.18413222e-01, 8.68954872e-01, 6.04626950e-01, 9.12555627e-01],\n",
              "       [9.09744345e-01, 5.21038963e-01, 7.83601096e-01, 9.05192851e-01,\n",
              "        8.76303551e-01, 3.55691149e-01, 8.55556461e-01, 6.81844919e-01,\n",
              "        9.63324232e-01, 7.53329151e-01, 4.58139542e-01, 9.26273392e-01,\n",
              "        2.25084433e-04, 8.86830799e-01, 3.52672426e-01, 9.63908628e-01,\n",
              "        3.67272841e-01, 5.74779263e-01, 5.80367091e-01, 2.18837527e-02]])"
            ]
          },
          "metadata": {},
          "execution_count": 6
        }
      ]
    },
    {
      "cell_type": "code",
      "source": [
        ""
      ],
      "metadata": {
        "id": "9fH6AV8QWOXG"
      },
      "execution_count": null,
      "outputs": []
    },
    {
      "cell_type": "markdown",
      "source": [
        "# Instalar libreria"
      ],
      "metadata": {
        "id": "GZhgSa3PWsCF"
      }
    },
    {
      "cell_type": "code",
      "source": [
        "!pip install imageai"
      ],
      "metadata": {
        "colab": {
          "base_uri": "https://localhost:8080/",
          "height": 1000
        },
        "id": "u1WUVcKEWvC1",
        "outputId": "79e0a7ef-edd2-4822-c3d4-11770e2acb46"
      },
      "execution_count": 8,
      "outputs": [
        {
          "output_type": "stream",
          "name": "stdout",
          "text": [
            "Collecting imageai\n",
            "  Downloading imageai-2.1.6-py3-none-any.whl (160 kB)\n",
            "\u001b[?25l\r\u001b[K     |██                              | 10 kB 20.4 MB/s eta 0:00:01\r\u001b[K     |████                            | 20 kB 26.8 MB/s eta 0:00:01\r\u001b[K     |██████                          | 30 kB 32.2 MB/s eta 0:00:01\r\u001b[K     |████████▏                       | 40 kB 27.0 MB/s eta 0:00:01\r\u001b[K     |██████████▏                     | 51 kB 21.9 MB/s eta 0:00:01\r\u001b[K     |████████████▏                   | 61 kB 23.7 MB/s eta 0:00:01\r\u001b[K     |██████████████▎                 | 71 kB 24.5 MB/s eta 0:00:01\r\u001b[K     |████████████████▎               | 81 kB 25.2 MB/s eta 0:00:01\r\u001b[K     |██████████████████▎             | 92 kB 26.9 MB/s eta 0:00:01\r\u001b[K     |████████████████████▍           | 102 kB 28.4 MB/s eta 0:00:01\r\u001b[K     |██████████████████████▍         | 112 kB 28.4 MB/s eta 0:00:01\r\u001b[K     |████████████████████████▍       | 122 kB 28.4 MB/s eta 0:00:01\r\u001b[K     |██████████████████████████▌     | 133 kB 28.4 MB/s eta 0:00:01\r\u001b[K     |████████████████████████████▌   | 143 kB 28.4 MB/s eta 0:00:01\r\u001b[K     |██████████████████████████████▌ | 153 kB 28.4 MB/s eta 0:00:01\r\u001b[K     |████████████████████████████████| 160 kB 28.4 MB/s \n",
            "\u001b[?25hCollecting keras-resnet==0.2.0\n",
            "  Downloading keras-resnet-0.2.0.tar.gz (9.3 kB)\n",
            "Collecting numpy==1.19.3\n",
            "  Downloading numpy-1.19.3-cp37-cp37m-manylinux2010_x86_64.whl (14.9 MB)\n",
            "\u001b[K     |████████████████████████████████| 14.9 MB 46.3 MB/s \n",
            "\u001b[?25hCollecting matplotlib==3.3.2\n",
            "  Downloading matplotlib-3.3.2-cp37-cp37m-manylinux1_x86_64.whl (11.6 MB)\n",
            "\u001b[K     |████████████████████████████████| 11.6 MB 57.6 MB/s \n",
            "\u001b[?25hCollecting h5py==2.10.0\n",
            "  Downloading h5py-2.10.0-cp37-cp37m-manylinux1_x86_64.whl (2.9 MB)\n",
            "\u001b[K     |████████████████████████████████| 2.9 MB 64.1 MB/s \n",
            "\u001b[?25hCollecting keras==2.4.3\n",
            "  Downloading Keras-2.4.3-py2.py3-none-any.whl (36 kB)\n",
            "Requirement already satisfied: opencv-python in /usr/local/lib/python3.7/dist-packages (from imageai) (4.1.2.30)\n",
            "Requirement already satisfied: scipy==1.4.1 in /usr/local/lib/python3.7/dist-packages (from imageai) (1.4.1)\n",
            "Collecting pillow==7.0.0\n",
            "  Downloading Pillow-7.0.0-cp37-cp37m-manylinux1_x86_64.whl (2.1 MB)\n",
            "\u001b[K     |████████████████████████████████| 2.1 MB 46.3 MB/s \n",
            "\u001b[?25hRequirement already satisfied: six in /usr/local/lib/python3.7/dist-packages (from h5py==2.10.0->imageai) (1.15.0)\n",
            "Requirement already satisfied: pyyaml in /usr/local/lib/python3.7/dist-packages (from keras==2.4.3->imageai) (3.13)\n",
            "Requirement already satisfied: kiwisolver>=1.0.1 in /usr/local/lib/python3.7/dist-packages (from matplotlib==3.3.2->imageai) (1.3.2)\n",
            "Requirement already satisfied: cycler>=0.10 in /usr/local/lib/python3.7/dist-packages (from matplotlib==3.3.2->imageai) (0.11.0)\n",
            "Requirement already satisfied: python-dateutil>=2.1 in /usr/local/lib/python3.7/dist-packages (from matplotlib==3.3.2->imageai) (2.8.2)\n",
            "Requirement already satisfied: pyparsing!=2.0.4,!=2.1.2,!=2.1.6,>=2.0.3 in /usr/local/lib/python3.7/dist-packages (from matplotlib==3.3.2->imageai) (3.0.7)\n",
            "Requirement already satisfied: certifi>=2020.06.20 in /usr/local/lib/python3.7/dist-packages (from matplotlib==3.3.2->imageai) (2021.10.8)\n",
            "Building wheels for collected packages: keras-resnet\n",
            "  Building wheel for keras-resnet (setup.py) ... \u001b[?25l\u001b[?25hdone\n",
            "  Created wheel for keras-resnet: filename=keras_resnet-0.2.0-py2.py3-none-any.whl size=20486 sha256=26f0bd54a5b389340b7d7d5b1ab579247198fbdce19d2414cff1f9e7d08b2ea4\n",
            "  Stored in directory: /root/.cache/pip/wheels/bd/ef/06/5d65f696360436c3a423020c4b7fd8c558c09ef264a0e6c575\n",
            "Successfully built keras-resnet\n",
            "Installing collected packages: numpy, h5py, pillow, keras, matplotlib, keras-resnet, imageai\n",
            "  Attempting uninstall: numpy\n",
            "    Found existing installation: numpy 1.21.5\n",
            "    Uninstalling numpy-1.21.5:\n",
            "      Successfully uninstalled numpy-1.21.5\n",
            "  Attempting uninstall: h5py\n",
            "    Found existing installation: h5py 3.1.0\n",
            "    Uninstalling h5py-3.1.0:\n",
            "      Successfully uninstalled h5py-3.1.0\n",
            "  Attempting uninstall: pillow\n",
            "    Found existing installation: Pillow 7.1.2\n",
            "    Uninstalling Pillow-7.1.2:\n",
            "      Successfully uninstalled Pillow-7.1.2\n",
            "  Attempting uninstall: keras\n",
            "    Found existing installation: keras 2.8.0\n",
            "    Uninstalling keras-2.8.0:\n",
            "      Successfully uninstalled keras-2.8.0\n",
            "  Attempting uninstall: matplotlib\n",
            "    Found existing installation: matplotlib 3.2.2\n",
            "    Uninstalling matplotlib-3.2.2:\n",
            "      Successfully uninstalled matplotlib-3.2.2\n",
            "\u001b[31mERROR: pip's dependency resolver does not currently take into account all the packages that are installed. This behaviour is the source of the following dependency conflicts.\n",
            "tensorflow 2.8.0 requires tf-estimator-nightly==2.8.0.dev2021122109, which is not installed.\n",
            "tensorflow 2.8.0 requires keras<2.9,>=2.8.0rc0, but you have keras 2.4.3 which is incompatible.\n",
            "tensorflow 2.8.0 requires numpy>=1.20, but you have numpy 1.19.3 which is incompatible.\n",
            "datascience 0.10.6 requires folium==0.2.1, but you have folium 0.8.3 which is incompatible.\n",
            "bokeh 2.3.3 requires pillow>=7.1.0, but you have pillow 7.0.0 which is incompatible.\n",
            "albumentations 0.1.12 requires imgaug<0.2.7,>=0.2.5, but you have imgaug 0.2.9 which is incompatible.\u001b[0m\n",
            "Successfully installed h5py-2.10.0 imageai-2.1.6 keras-2.4.3 keras-resnet-0.2.0 matplotlib-3.3.2 numpy-1.19.3 pillow-7.0.0\n"
          ]
        },
        {
          "output_type": "display_data",
          "data": {
            "application/vnd.colab-display-data+json": {
              "pip_warning": {
                "packages": [
                  "PIL",
                  "matplotlib",
                  "mpl_toolkits",
                  "numpy"
                ]
              }
            }
          },
          "metadata": {}
        }
      ]
    },
    {
      "cell_type": "code",
      "source": [
        "import imageai"
      ],
      "metadata": {
        "id": "IvwlstaSWyO7"
      },
      "execution_count": 9,
      "outputs": []
    },
    {
      "cell_type": "markdown",
      "source": [
        "# Markdowns"
      ],
      "metadata": {
        "id": "Mop8xVO1X_96"
      }
    },
    {
      "cell_type": "markdown",
      "source": [
        "ejemplo *hola*\n",
        "\n",
        "ejemplo **kisama**\n",
        "\n",
        "ejemplo __kisama__\n",
        "\n",
        "resaltado `santoryou`\n",
        "\n",
        "``` \n",
        "helo desde colab\n",
        "\n",
        " ```\n",
        "\n",
        " lista ordenada\n",
        "\n",
        " 1. s\n",
        " 2. k\n",
        " 3. yeah\n",
        "\n",
        " lista desodenada\n",
        "\n",
        " * 1\n",
        " * 3\n",
        " * 5 \n",
        " * 6\n",
        "\n",
        " [repositorio](https://github.com/jdvpl/google-colab-machine-learning)\n",
        "\n",
        " ![logo](https://upload.wikimedia.org/wikipedia/commons/thumb/0/0a/Python.svg/800px-Python.svg.png) \n",
        "\n",
        " operaciones matematicas\n",
        "\n",
        " $y=x^2$\n",
        "\n",
        " fraciones\n",
        "\n",
        " $ \\frac{1}{x} \\sum_{i=1}^{n}x_i$ \n",
        "\n",
        "Matrices\n",
        "\n",
        " $ A=\\begin{pmatrix}\n",
        " a_{1,1} & a_{1,2} \\\\\n",
        " a_{2,1} & a_{2,2}\n",
        " \\end{pmatrix}\n",
        " $\n",
        "\n",
        "Tablas\n",
        "\n",
        "col1 | col2 | col3\n",
        "--- | --- | ---\n",
        "va1 | val2 | val3 \n",
        "l| s| m |\n",
        "\n"
      ],
      "metadata": {
        "id": "j0AuiQKmYGVb"
      }
    }
  ]
}